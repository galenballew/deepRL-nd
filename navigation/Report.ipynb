{
 "cells": [
  {
   "cell_type": "markdown",
   "metadata": {},
   "source": [
    "# Understanding DQN_Navigation\n",
    "### Galen Ballew, Fall 2018\n",
    "---\n",
    "\n",
    "## Features of DQN\n",
    "\n",
    "\n",
    "## Architecture\n",
    "\n",
    "\n",
    "## Hyperparameters\n",
    "\n",
    "---\n",
    "## Results\n",
    "\n",
    "---\n",
    "## Future Work\n"
   ]
  }
 ],
 "metadata": {
  "kernelspec": {
   "display_name": "Python 3",
   "language": "python",
   "name": "python3"
  },
  "language_info": {
   "codemirror_mode": {
    "name": "ipython",
    "version": 3
   },
   "file_extension": ".py",
   "mimetype": "text/x-python",
   "name": "python",
   "nbconvert_exporter": "python",
   "pygments_lexer": "ipython3",
   "version": "3.6.5"
  }
 },
 "nbformat": 4,
 "nbformat_minor": 2
}
